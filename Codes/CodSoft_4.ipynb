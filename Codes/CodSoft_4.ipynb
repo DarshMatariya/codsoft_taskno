{
  "nbformat": 4,
  "nbformat_minor": 0,
  "metadata": {
    "colab": {
      "provenance": []
    },
    "kernelspec": {
      "name": "python3",
      "display_name": "Python 3"
    },
    "language_info": {
      "name": "python"
    }
  },
  "cells": [
    {
      "cell_type": "code",
      "execution_count": 9,
      "metadata": {
        "id": "QR3dCIIE5R_D"
      },
      "outputs": [],
      "source": [
        "import pandas as pd\n",
        "from sklearn.model_selection import train_test_split\n",
        "from sklearn.feature_extraction.text import TfidfVectorizer\n",
        "from sklearn.naive_bayes import MultinomialNB\n",
        "from sklearn.metrics import accuracy_score, classification_report, confusion_matrix\n"
      ]
    },
    {
      "cell_type": "code",
      "source": [
        "# load the dataset\n",
        "df = pd.read_csv('spam.csv', encoding='latin-1')\n",
        "\n",
        "print(df.head())\n"
      ],
      "metadata": {
        "colab": {
          "base_uri": "https://localhost:8080/"
        },
        "id": "AWslaPLY7NBf",
        "outputId": "8cf277cb-40a2-4ccb-988a-9cc00b9b9ff4"
      },
      "execution_count": 10,
      "outputs": [
        {
          "output_type": "stream",
          "name": "stdout",
          "text": [
            "     v1                                                 v2 Unnamed: 2  \\\n",
            "0   ham  Go until jurong point, crazy.. Available only ...        NaN   \n",
            "1   ham                      Ok lar... Joking wif u oni...        NaN   \n",
            "2  spam  Free entry in 2 a wkly comp to win FA Cup fina...        NaN   \n",
            "3   ham  U dun say so early hor... U c already then say...        NaN   \n",
            "4   ham  Nah I don't think he goes to usf, he lives aro...        NaN   \n",
            "\n",
            "  Unnamed: 3 Unnamed: 4  \n",
            "0        NaN        NaN  \n",
            "1        NaN        NaN  \n",
            "2        NaN        NaN  \n",
            "3        NaN        NaN  \n",
            "4        NaN        NaN  \n"
          ]
        }
      ]
    },
    {
      "cell_type": "code",
      "source": [
        "print(df.dtypes)"
      ],
      "metadata": {
        "colab": {
          "base_uri": "https://localhost:8080/"
        },
        "id": "tKX59ToN7gc0",
        "outputId": "8bce5db3-acc4-46ad-af62-fedc519438e5"
      },
      "execution_count": 11,
      "outputs": [
        {
          "output_type": "stream",
          "name": "stdout",
          "text": [
            "v1            object\n",
            "v2            object\n",
            "Unnamed: 2    object\n",
            "Unnamed: 3    object\n",
            "Unnamed: 4    object\n",
            "dtype: object\n"
          ]
        }
      ]
    },
    {
      "cell_type": "code",
      "source": [
        "# Drop unnecessary columns\n",
        "df.drop(['Unnamed: 2', 'Unnamed: 3', 'Unnamed: 4'], axis=1, inplace=True)"
      ],
      "metadata": {
        "id": "p4EvrGth7jYS"
      },
      "execution_count": 12,
      "outputs": []
    },
    {
      "cell_type": "code",
      "source": [
        "# Rename columns for better understanding\n",
        "df.columns = ['label', 'message']"
      ],
      "metadata": {
        "id": "dtKqYZvl70Rj"
      },
      "execution_count": 44,
      "outputs": []
    },
    {
      "cell_type": "code",
      "source": [
        "# Mapping the 'label' column in a way thar it shows 1 for spam, 0 for legitimate\n",
        "df['label'] = df['label'].map({'spam': 1, 'ham': 0})\n",
        "\n",
        "# Display the distribution of classes\n",
        "print(df['label'].value_counts())"
      ],
      "metadata": {
        "colab": {
          "base_uri": "https://localhost:8080/"
        },
        "id": "gcsVNeXC8B0V",
        "outputId": "53195a26-fec0-470c-8d0e-3a9da7016bc7"
      },
      "execution_count": 45,
      "outputs": [
        {
          "output_type": "stream",
          "name": "stdout",
          "text": [
            "Series([], Name: count, dtype: int64)\n"
          ]
        }
      ]
    },
    {
      "cell_type": "code",
      "source": [
        "# Check for missing values in features and target\n",
        "print(\"\\nMissing values in the features and target:\")\n",
        "print(\"X missing values:\", X.isnull().sum())\n",
        "print(\"y missing values:\", y.isnull().sum())\n",
        "\n",
        "# Split the dataset into training and testing sets (80% training, 20% testing)\n",
        "X_train, X_test, y_train, y_test = train_test_split(X, y, test_size=0.2, random_state=42)\n",
        "print(\"\\nShapes after splitting:\")\n",
        "print(\"X_train shape:\", X_train.shape)\n",
        "print(\"X_test shape:\", X_test.shape)\n",
        "print(\"y_train shape:\", y_train.shape)\n",
        "print(\"y_test shape:\", y_test.shape)\n"
      ],
      "metadata": {
        "colab": {
          "base_uri": "https://localhost:8080/"
        },
        "id": "1FTzB9xO8RHV",
        "outputId": "17f287d3-1035-4f1e-dfc0-5da8fb1c3e2a"
      },
      "execution_count": 46,
      "outputs": [
        {
          "output_type": "stream",
          "name": "stdout",
          "text": [
            "\n",
            "Missing values in the features and target:\n",
            "X missing values: 0\n",
            "y missing values: 0\n",
            "\n",
            "Shapes after splitting:\n",
            "X_train shape: (4457,)\n",
            "X_test shape: (1115,)\n",
            "y_train shape: (4457,)\n",
            "y_test shape: (1115,)\n"
          ]
        }
      ]
    },
    {
      "cell_type": "code",
      "source": [
        "# Initialize the TF-IDF vectorizer\n",
        "vectorizer = TfidfVectorizer(stop_words='english', max_df=0.7)\n",
        "\n",
        "# Fit training data, transform the test data\n",
        "X_train_vectorizer = vectorizer.fit_transform(X_train)\n",
        "X_test_vectorizer = vectorizer.transform(X_test)\n"
      ],
      "metadata": {
        "id": "PCT0qGaG8pL3"
      },
      "execution_count": 47,
      "outputs": []
    },
    {
      "cell_type": "code",
      "source": [
        "# Check the shapes of the vectorized data\n",
        "print(\"\\nShapes after TF-IDF vectorization:\")\n",
        "print(\"X_train_vectorizer shape:\", X_train_vectorizer.shape)\n",
        "print(\"X_test_vectorizer shape:\", X_test_vectorizer.shape)"
      ],
      "metadata": {
        "colab": {
          "base_uri": "https://localhost:8080/"
        },
        "id": "HQnlWdgI9BZq",
        "outputId": "589308e2-eaf6-40c3-ed2e-b64b2d048d15"
      },
      "execution_count": 48,
      "outputs": [
        {
          "output_type": "stream",
          "name": "stdout",
          "text": [
            "\n",
            "Shapes after TF-IDF vectorization:\n",
            "X_train_vectorizer shape: (4457, 7472)\n",
            "X_test_vectorizer shape: (1115, 7472)\n"
          ]
        }
      ]
    },
    {
      "cell_type": "code",
      "source": [
        "# Naive Bayes is used for its simplicity and effectiveness in handling text classification tasks, assuming feature independence.\n",
        "# Initialize the Naive Bayes model\n",
        "naive_bayes_model = MultinomialNB()\n",
        "\n",
        "# Train the model with the training data\n",
        "naive_bayes_model.fit(X_train_vectorizer, y_train)\n",
        "\n",
        "# Predict on the test data\n",
        "y_pred = naive_bayes_model.predict(X_test_vectorizer)"
      ],
      "metadata": {
        "id": "YvHX35ii-8AV"
      },
      "execution_count": 51,
      "outputs": []
    },
    {
      "cell_type": "code",
      "source": [
        "# Evaluate the model\n",
        "accuracy = accuracy_score(y_test, y_pred)\n",
        "print(f\"\\nAccuracy: {accuracy:.4f}\")\n",
        "\n",
        "print(\"\\nClassification Report:\")\n",
        "print(classification_report(y_test, y_pred))\n",
        "\n",
        "print(\"\\nConfusion Matrix:\")\n",
        "print(confusion_matrix(y_test, y_pred))"
      ],
      "metadata": {
        "colab": {
          "base_uri": "https://localhost:8080/"
        },
        "id": "rB6Z_edDA89C",
        "outputId": "7bf7e874-b5b4-47a2-caca-fb213ded738b"
      },
      "execution_count": 50,
      "outputs": [
        {
          "output_type": "stream",
          "name": "stdout",
          "text": [
            "\n",
            "Accuracy: 0.9668\n",
            "\n",
            "Classification Report:\n",
            "              precision    recall  f1-score   support\n",
            "\n",
            "           0       0.96      1.00      0.98       965\n",
            "           1       1.00      0.75      0.86       150\n",
            "\n",
            "    accuracy                           0.97      1115\n",
            "   macro avg       0.98      0.88      0.92      1115\n",
            "weighted avg       0.97      0.97      0.96      1115\n",
            "\n",
            "\n",
            "Confusion Matrix:\n",
            "[[965   0]\n",
            " [ 37 113]]\n"
          ]
        }
      ]
    }
  ]
}