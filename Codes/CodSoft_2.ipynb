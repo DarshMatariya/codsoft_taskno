{
  "cells": [
    {
      "cell_type": "code",
      "execution_count": null,
      "id": "c4c2f13f",
      "metadata": {
        "id": "c4c2f13f"
      },
      "outputs": [],
      "source": [
        "import numpy as np\n",
        "import pandas as pd\n",
        "from sklearn.preprocessing import LabelEncoder\n",
        "from sklearn.model_selection import train_test_split\n",
        "from sklearn.linear_model import LogisticRegression\n",
        "from sklearn.metrics import accuracy_score\n",
        "from sklearn.metrics import confusion_matrix, classification_report, roc_auc_score"
      ]
    },
    {
      "cell_type": "code",
      "execution_count": null,
      "id": "a779ea7a",
      "metadata": {
        "id": "a779ea7a",
        "outputId": "de7c5ef3-9141-4122-c94f-ef1fcea55fc3"
      },
      "outputs": [
        {
          "name": "stdout",
          "output_type": "stream",
          "text": [
            "   Unnamed: 0 trans_date_trans_time            cc_num  \\\n",
            "0           0   2020-06-21 12:14:25  2291163933867244   \n",
            "1           1   2020-06-21 12:14:33  3573030041201292   \n",
            "2           2   2020-06-21 12:14:53  3598215285024754   \n",
            "3           3   2020-06-21 12:15:15  3591919803438423   \n",
            "4           4   2020-06-21 12:15:17  3526826139003047   \n",
            "\n",
            "                               merchant        category    amt   first  \\\n",
            "0                 fraud_Kirlin and Sons   personal_care   2.86    Jeff   \n",
            "1                  fraud_Sporer-Keebler   personal_care  29.84  Joanne   \n",
            "2  fraud_Swaniawski, Nitzsche and Welch  health_fitness  41.28  Ashley   \n",
            "3                     fraud_Haley Group        misc_pos  60.05   Brian   \n",
            "4                 fraud_Johnston-Casper          travel   3.19  Nathan   \n",
            "\n",
            "       last gender                       street  ...      lat      long  \\\n",
            "0   Elliott      M            351 Darlene Green  ...  33.9659  -80.9355   \n",
            "1  Williams      F             3638 Marsh Union  ...  40.3207 -110.4360   \n",
            "2     Lopez      F         9333 Valentine Point  ...  40.6729  -73.5365   \n",
            "3  Williams      M  32941 Krystal Mill Apt. 552  ...  28.5697  -80.8191   \n",
            "4    Massey      M     5783 Evan Roads Apt. 465  ...  44.2529  -85.0170   \n",
            "\n",
            "   city_pop                     job         dob  \\\n",
            "0    333497     Mechanical engineer  1968-03-19   \n",
            "1       302  Sales professional, IT  1990-01-17   \n",
            "2     34496       Librarian, public  1970-10-21   \n",
            "3     54767            Set designer  1987-07-25   \n",
            "4      1126      Furniture designer  1955-07-06   \n",
            "\n",
            "                          trans_num   unix_time  merch_lat  merch_long  \\\n",
            "0  2da90c7d74bd46a0caf3777415b3ebd3  1371816865  33.986391  -81.200714   \n",
            "1  324cc204407e99f51b0d6ca0055005e7  1371816873  39.450498 -109.960431   \n",
            "2  c81755dbbbea9d5c77f094348a7579be  1371816893  40.495810  -74.196111   \n",
            "3  2159175b9efe66dc301f149d3d5abf8c  1371816915  28.812398  -80.883061   \n",
            "4  57ff021bd3f328f8738bb535c302a31b  1371816917  44.959148  -85.884734   \n",
            "\n",
            "   is_fraud  \n",
            "0         0  \n",
            "1         0  \n",
            "2         0  \n",
            "3         0  \n",
            "4         0  \n",
            "\n",
            "[5 rows x 23 columns]\n"
          ]
        }
      ],
      "source": [
        "# load the dataset\n",
        "df = pd.read_csv('fraudTest.csv')\n",
        "print(df.head())"
      ]
    },
    {
      "cell_type": "code",
      "execution_count": null,
      "id": "0bf92ca9",
      "metadata": {
        "id": "0bf92ca9",
        "outputId": "f6962637-6135-4049-a604-50410f57c555"
      },
      "outputs": [
        {
          "name": "stdout",
          "output_type": "stream",
          "text": [
            "Unnamed: 0                 int64\n",
            "trans_date_trans_time     object\n",
            "cc_num                     int64\n",
            "merchant                  object\n",
            "category                  object\n",
            "amt                      float64\n",
            "first                     object\n",
            "last                      object\n",
            "gender                    object\n",
            "street                    object\n",
            "city                      object\n",
            "state                     object\n",
            "zip                        int64\n",
            "lat                      float64\n",
            "long                     float64\n",
            "city_pop                   int64\n",
            "job                       object\n",
            "dob                       object\n",
            "trans_num                 object\n",
            "unix_time                  int64\n",
            "merch_lat                float64\n",
            "merch_long               float64\n",
            "is_fraud                   int64\n",
            "dtype: object\n"
          ]
        }
      ],
      "source": [
        "print(df.dtypes)"
      ]
    },
    {
      "cell_type": "code",
      "execution_count": null,
      "id": "631707be",
      "metadata": {
        "id": "631707be",
        "outputId": "35a83fe6-8e93-471e-bc18-a5f74ce6e077"
      },
      "outputs": [
        {
          "name": "stdout",
          "output_type": "stream",
          "text": [
            "Unnamed: 0               0\n",
            "trans_date_trans_time    0\n",
            "cc_num                   0\n",
            "merchant                 0\n",
            "category                 0\n",
            "amt                      0\n",
            "first                    0\n",
            "last                     0\n",
            "gender                   0\n",
            "street                   0\n",
            "city                     0\n",
            "state                    0\n",
            "zip                      0\n",
            "lat                      0\n",
            "long                     0\n",
            "city_pop                 0\n",
            "job                      0\n",
            "dob                      0\n",
            "trans_num                0\n",
            "unix_time                0\n",
            "merch_lat                0\n",
            "merch_long               0\n",
            "is_fraud                 0\n",
            "dtype: int64\n"
          ]
        }
      ],
      "source": [
        "print(df.isnull().sum())"
      ]
    },
    {
      "cell_type": "code",
      "execution_count": null,
      "id": "f4a07cc1",
      "metadata": {
        "id": "f4a07cc1"
      },
      "outputs": [],
      "source": [
        "# Convert relevant columns to datetime formats, then split 'trans_date_trans_time' into separate 'trans_date' and 'trans_time' columns.\n",
        "df['dob'] = pd.to_datetime(df['dob'])\n",
        "df['trans_date_trans_time'] = pd.to_datetime(df['trans_date_trans_time'])\n",
        "df['trans_date'] = df['trans_date_trans_time'].dt.date\n",
        "df['trans_date'] = pd.to_datetime(df['trans_date'])\n",
        "df['trans_time'] = df['trans_date_trans_time'].dt.time\n",
        "df['trans_time'] = pd.to_datetime(df['trans_time'], format='%H:%M:%S')\n",
        "\n",
        "# drop the original column as it is not needed\n",
        "df.drop(['trans_date_trans_time'], axis=1, inplace=True)"
      ]
    },
    {
      "cell_type": "code",
      "execution_count": null,
      "id": "98dcba04",
      "metadata": {
        "id": "98dcba04"
      },
      "outputs": [],
      "source": [
        "# removing not needed column\n",
        "df.drop(['Unnamed: 0'], axis=1, inplace=True)"
      ]
    },
    {
      "cell_type": "code",
      "execution_count": null,
      "id": "57fe3588",
      "metadata": {
        "id": "57fe3588",
        "outputId": "04007f8a-a758-4fde-a5e6-e07c756711d5"
      },
      "outputs": [
        {
          "data": {
            "text/html": [
              "<div>\n",
              "<style scoped>\n",
              "    .dataframe tbody tr th:only-of-type {\n",
              "        vertical-align: middle;\n",
              "    }\n",
              "\n",
              "    .dataframe tbody tr th {\n",
              "        vertical-align: top;\n",
              "    }\n",
              "\n",
              "    .dataframe thead th {\n",
              "        text-align: right;\n",
              "    }\n",
              "</style>\n",
              "<table border=\"1\" class=\"dataframe\">\n",
              "  <thead>\n",
              "    <tr style=\"text-align: right;\">\n",
              "      <th></th>\n",
              "      <th>Unnamed: 0</th>\n",
              "      <th>trans_date_trans_time</th>\n",
              "      <th>cc_num</th>\n",
              "      <th>merchant</th>\n",
              "      <th>category</th>\n",
              "      <th>amt</th>\n",
              "      <th>first</th>\n",
              "      <th>last</th>\n",
              "      <th>gender</th>\n",
              "      <th>street</th>\n",
              "      <th>...</th>\n",
              "      <th>lat</th>\n",
              "      <th>long</th>\n",
              "      <th>city_pop</th>\n",
              "      <th>job</th>\n",
              "      <th>dob</th>\n",
              "      <th>trans_num</th>\n",
              "      <th>unix_time</th>\n",
              "      <th>merch_lat</th>\n",
              "      <th>merch_long</th>\n",
              "      <th>is_fraud</th>\n",
              "    </tr>\n",
              "  </thead>\n",
              "  <tbody>\n",
              "    <tr>\n",
              "      <th>0</th>\n",
              "      <td>0</td>\n",
              "      <td>0</td>\n",
              "      <td>2291163933867244</td>\n",
              "      <td>319</td>\n",
              "      <td>10</td>\n",
              "      <td>2.86</td>\n",
              "      <td>151</td>\n",
              "      <td>115</td>\n",
              "      <td>1</td>\n",
              "      <td>341</td>\n",
              "      <td>...</td>\n",
              "      <td>33.9659</td>\n",
              "      <td>-80.9355</td>\n",
              "      <td>333497</td>\n",
              "      <td>275</td>\n",
              "      <td>376</td>\n",
              "      <td>98699</td>\n",
              "      <td>1371816865</td>\n",
              "      <td>33.986391</td>\n",
              "      <td>-81.200714</td>\n",
              "      <td>0</td>\n",
              "    </tr>\n",
              "    <tr>\n",
              "      <th>1</th>\n",
              "      <td>1</td>\n",
              "      <td>1</td>\n",
              "      <td>3573030041201292</td>\n",
              "      <td>591</td>\n",
              "      <td>10</td>\n",
              "      <td>29.84</td>\n",
              "      <td>163</td>\n",
              "      <td>457</td>\n",
              "      <td>0</td>\n",
              "      <td>354</td>\n",
              "      <td>...</td>\n",
              "      <td>40.3207</td>\n",
              "      <td>-110.4360</td>\n",
              "      <td>302</td>\n",
              "      <td>392</td>\n",
              "      <td>760</td>\n",
              "      <td>108785</td>\n",
              "      <td>1371816873</td>\n",
              "      <td>39.450498</td>\n",
              "      <td>-109.960431</td>\n",
              "      <td>0</td>\n",
              "    </tr>\n",
              "    <tr>\n",
              "      <th>2</th>\n",
              "      <td>2</td>\n",
              "      <td>2</td>\n",
              "      <td>3598215285024754</td>\n",
              "      <td>611</td>\n",
              "      <td>5</td>\n",
              "      <td>41.28</td>\n",
              "      <td>24</td>\n",
              "      <td>249</td>\n",
              "      <td>0</td>\n",
              "      <td>865</td>\n",
              "      <td>...</td>\n",
              "      <td>40.6729</td>\n",
              "      <td>-73.5365</td>\n",
              "      <td>34496</td>\n",
              "      <td>259</td>\n",
              "      <td>421</td>\n",
              "      <td>433979</td>\n",
              "      <td>1371816893</td>\n",
              "      <td>40.495810</td>\n",
              "      <td>-74.196111</td>\n",
              "      <td>0</td>\n",
              "    </tr>\n",
              "    <tr>\n",
              "      <th>3</th>\n",
              "      <td>3</td>\n",
              "      <td>3</td>\n",
              "      <td>3591919803438423</td>\n",
              "      <td>222</td>\n",
              "      <td>9</td>\n",
              "      <td>60.05</td>\n",
              "      <td>42</td>\n",
              "      <td>457</td>\n",
              "      <td>1</td>\n",
              "      <td>320</td>\n",
              "      <td>...</td>\n",
              "      <td>28.5697</td>\n",
              "      <td>-80.8191</td>\n",
              "      <td>54767</td>\n",
              "      <td>407</td>\n",
              "      <td>718</td>\n",
              "      <td>71993</td>\n",
              "      <td>1371816915</td>\n",
              "      <td>28.812398</td>\n",
              "      <td>-80.883061</td>\n",
              "      <td>0</td>\n",
              "    </tr>\n",
              "    <tr>\n",
              "      <th>4</th>\n",
              "      <td>4</td>\n",
              "      <td>4</td>\n",
              "      <td>3526826139003047</td>\n",
              "      <td>292</td>\n",
              "      <td>13</td>\n",
              "      <td>3.19</td>\n",
              "      <td>247</td>\n",
              "      <td>261</td>\n",
              "      <td>1</td>\n",
              "      <td>548</td>\n",
              "      <td>...</td>\n",
              "      <td>44.2529</td>\n",
              "      <td>-85.0170</td>\n",
              "      <td>1126</td>\n",
              "      <td>196</td>\n",
              "      <td>177</td>\n",
              "      <td>190585</td>\n",
              "      <td>1371816917</td>\n",
              "      <td>44.959148</td>\n",
              "      <td>-85.884734</td>\n",
              "      <td>0</td>\n",
              "    </tr>\n",
              "  </tbody>\n",
              "</table>\n",
              "<p>5 rows × 23 columns</p>\n",
              "</div>"
            ],
            "text/plain": [
              "   Unnamed: 0  trans_date_trans_time            cc_num  merchant  category  \\\n",
              "0           0                      0  2291163933867244       319        10   \n",
              "1           1                      1  3573030041201292       591        10   \n",
              "2           2                      2  3598215285024754       611         5   \n",
              "3           3                      3  3591919803438423       222         9   \n",
              "4           4                      4  3526826139003047       292        13   \n",
              "\n",
              "     amt  first  last  gender  street  ...      lat      long  city_pop  job  \\\n",
              "0   2.86    151   115       1     341  ...  33.9659  -80.9355    333497  275   \n",
              "1  29.84    163   457       0     354  ...  40.3207 -110.4360       302  392   \n",
              "2  41.28     24   249       0     865  ...  40.6729  -73.5365     34496  259   \n",
              "3  60.05     42   457       1     320  ...  28.5697  -80.8191     54767  407   \n",
              "4   3.19    247   261       1     548  ...  44.2529  -85.0170      1126  196   \n",
              "\n",
              "   dob  trans_num   unix_time  merch_lat  merch_long  is_fraud  \n",
              "0  376      98699  1371816865  33.986391  -81.200714         0  \n",
              "1  760     108785  1371816873  39.450498 -109.960431         0  \n",
              "2  421     433979  1371816893  40.495810  -74.196111         0  \n",
              "3  718      71993  1371816915  28.812398  -80.883061         0  \n",
              "4  177     190585  1371816917  44.959148  -85.884734         0  \n",
              "\n",
              "[5 rows x 23 columns]"
            ]
          },
          "execution_count": 14,
          "metadata": {},
          "output_type": "execute_result"
        }
      ],
      "source": [
        "# convert all categorical columns to numerical values\n",
        "labelEncoder = LabelEncoder()\n",
        "\n",
        "categorical_columns = df.select_dtypes(include=['object']).columns.tolist()\n",
        "\n",
        "for column in categorical_columns:\n",
        "    df[column] = labelEncoder.fit_transform(df[column])\n",
        "\n",
        "df.head()"
      ]
    },
    {
      "cell_type": "code",
      "execution_count": null,
      "id": "faea158d",
      "metadata": {
        "id": "faea158d",
        "outputId": "19281260-89bc-47f3-82ac-308549d5b36b"
      },
      "outputs": [
        {
          "data": {
            "text/plain": [
              "Unnamed: 0                 int64\n",
              "trans_date_trans_time      int32\n",
              "cc_num                     int64\n",
              "merchant                   int32\n",
              "category                   int32\n",
              "amt                      float64\n",
              "first                      int32\n",
              "last                       int32\n",
              "gender                     int32\n",
              "street                     int32\n",
              "city                       int32\n",
              "state                      int32\n",
              "zip                        int64\n",
              "lat                      float64\n",
              "long                     float64\n",
              "city_pop                   int64\n",
              "job                        int32\n",
              "dob                        int32\n",
              "trans_num                  int32\n",
              "unix_time                  int64\n",
              "merch_lat                float64\n",
              "merch_long               float64\n",
              "is_fraud                   int64\n",
              "dtype: object"
            ]
          },
          "execution_count": 15,
          "metadata": {},
          "output_type": "execute_result"
        }
      ],
      "source": [
        "df.dtypes"
      ]
    },
    {
      "cell_type": "code",
      "execution_count": null,
      "id": "4de5dcef",
      "metadata": {
        "id": "4de5dcef",
        "outputId": "fe94d6ec-bca1-4db7-de2d-491b24d7e86f"
      },
      "outputs": [
        {
          "name": "stdout",
          "output_type": "stream",
          "text": [
            "(111144, 22)\n",
            "(111144,)\n",
            "(444575, 22)\n",
            "(444575,)\n"
          ]
        }
      ],
      "source": [
        "# Assigning feature variables to x and target variable to y\n",
        "x = df.drop(['is_fraud'], axis=1)\n",
        "y = df['is_fraud']\n",
        "\n",
        "#Splitting dataset in test and train set\n",
        "x_train, x_test, y_train, y_test = train_test_split(x, y, test_size=0.2, random_state=42)\n",
        "print(x_test.shape)\n",
        "print(y_test.shape)\n",
        "print(x_train.shape)\n",
        "print(y_train.shape)"
      ]
    },
    {
      "cell_type": "code",
      "execution_count": null,
      "id": "140ca9fa",
      "metadata": {
        "id": "140ca9fa"
      },
      "outputs": [],
      "source": [
        "# Convert datetime columns to unix timestamp for better simplicity\n",
        "# Do for columns in x_train\n",
        "for col in x_train.select_dtypes(include=['datetime']):\n",
        "    x_train[col] = x_train[col].astype('int64') // 10**9\n",
        "\n",
        "# Do the same for x_test\n",
        "for col in x_test.select_dtypes(include=['datetime']):\n",
        "    x_test[col] = x_test[col].astype('int64') // 10**9"
      ]
    },
    {
      "cell_type": "code",
      "execution_count": null,
      "id": "fd4d754e",
      "metadata": {
        "id": "fd4d754e",
        "outputId": "a815fa0a-18e2-4712-bd98-e3c0393299a5"
      },
      "outputs": [
        {
          "name": "stderr",
          "output_type": "stream",
          "text": [
            "C:\\Users\\darsh\\anaconda3\\Lib\\site-packages\\sklearn\\linear_model\\_logistic.py:460: ConvergenceWarning: lbfgs failed to converge (status=2):\n",
            "ABNORMAL_TERMINATION_IN_LNSRCH.\n",
            "\n",
            "Increase the number of iterations (max_iter) or scale the data as shown in:\n",
            "    https://scikit-learn.org/stable/modules/preprocessing.html\n",
            "Please also refer to the documentation for alternative solver options:\n",
            "    https://scikit-learn.org/stable/modules/linear_model.html#logistic-regression\n",
            "  n_iter_i = _check_optimize_result(\n",
            "C:\\Users\\darsh\\anaconda3\\Lib\\site-packages\\sklearn\\metrics\\_classification.py:1469: UndefinedMetricWarning: Precision and F-score are ill-defined and being set to 0.0 in labels with no predicted samples. Use `zero_division` parameter to control this behavior.\n",
            "  _warn_prf(average, modifier, msg_start, len(result))\n"
          ]
        },
        {
          "name": "stdout",
          "output_type": "stream",
          "text": [
            "Confusion Matrix:\n",
            "[[110718      0]\n",
            " [   426      0]]\n",
            "\n",
            "Classification Report:\n",
            "              precision    recall  f1-score   support\n",
            "\n",
            "           0       1.00      1.00      1.00    110718\n",
            "           1       0.00      0.00      0.00       426\n",
            "\n",
            "    accuracy                           1.00    111144\n",
            "   macro avg       0.50      0.50      0.50    111144\n",
            "weighted avg       0.99      1.00      0.99    111144\n",
            "\n",
            "\n",
            "ROC-AUC Score:\n",
            "0.5\n"
          ]
        },
        {
          "name": "stderr",
          "output_type": "stream",
          "text": [
            "C:\\Users\\darsh\\anaconda3\\Lib\\site-packages\\sklearn\\metrics\\_classification.py:1469: UndefinedMetricWarning: Precision and F-score are ill-defined and being set to 0.0 in labels with no predicted samples. Use `zero_division` parameter to control this behavior.\n",
            "  _warn_prf(average, modifier, msg_start, len(result))\n",
            "C:\\Users\\darsh\\anaconda3\\Lib\\site-packages\\sklearn\\metrics\\_classification.py:1469: UndefinedMetricWarning: Precision and F-score are ill-defined and being set to 0.0 in labels with no predicted samples. Use `zero_division` parameter to control this behavior.\n",
            "  _warn_prf(average, modifier, msg_start, len(result))\n"
          ]
        }
      ],
      "source": [
        "# Initialize the logistic regression model\n",
        "model = LogisticRegression(solver='lbfgs', max_iter=1000, random_state=42)\n",
        "\n",
        "# Train the model using the training data\n",
        "model.fit(x_train, y_train)\n",
        "\n",
        "# Make predictions on the test data\n",
        "y_pred = model.predict(x_test)\n",
        "y_prob = model.predict_proba(x_test)[:, 1]\n",
        "\n",
        "# Evaluate the model using a confusion matrix\n",
        "print(\"Confusion Matrix:\")\n",
        "print(confusion_matrix(y_test, y_pred))\n",
        "\n",
        "#Generating a detailed classification report\n",
        "print(\"\\nClassification Report:\")\n",
        "print(classification_report(y_test, y_pred))\n",
        "\n",
        "# Calculating ROC-AUC score\n",
        "print(\"\\nROC-AUC Score:\")\n",
        "print(roc_auc_score(y_test, y_prob))"
      ]
    }
  ],
  "metadata": {
    "kernelspec": {
      "display_name": "Python 3 (ipykernel)",
      "language": "python",
      "name": "python3"
    },
    "language_info": {
      "codemirror_mode": {
        "name": "ipython",
        "version": 3
      },
      "file_extension": ".py",
      "mimetype": "text/x-python",
      "name": "python",
      "nbconvert_exporter": "python",
      "pygments_lexer": "ipython3",
      "version": "3.11.5"
    },
    "colab": {
      "provenance": []
    }
  },
  "nbformat": 4,
  "nbformat_minor": 5
}